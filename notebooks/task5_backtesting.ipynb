{
 "cells": [
  {
   "cell_type": "code",
   "execution_count": null,
   "id": "386f0b8b-a95c-4db5-912c-68f6373a38c1",
   "metadata": {},
   "outputs": [],
   "source": [
    "import pandas as pd\n",
    "import numpy as np\n",
    "import matplotlib.pyplot as plt\n",
    "import os\n",
    "\n",
    "data_folder = os.path.join(\"..\", \"data\")\n",
    "plots_folder = os.path.join(\"..\", \"plots\")\n",
    "\n",
    "# Load returns\n",
    "assets = {}\n",
    "for ticker in [\"TSLA\", \"BND\", \"SPY\"]:\n",
    "    df = pd.read_csv(os.path.join(data_folder, f\"{ticker}.csv\"), parse_dates=[0], index_col=0)\n",
    "    df[\"Daily_Return\"] = df[\"Close\"].pct_change()\n",
    "    assets[ticker] = df\n",
    "\n",
    "returns_df = pd.concat([assets[t][\"Daily_Return\"] for t in assets], axis=1)\n",
    "returns_df.columns = assets.keys()\n",
    "returns_df.dropna(inplace=True)\n",
    "\n",
    "# Backtesting period\n",
    "backtest = returns_df.loc[\"2024-08-01\":\"2025-07-31\"]\n",
    "\n",
    "# Example weights from Task 4\n",
    "weights = {\"TSLA\": 0.5, \"BND\": 0.3, \"SPY\": 0.2}\n",
    "\n",
    "# Portfolio returns\n",
    "portfolio_returns = (backtest * pd.Series(weights)).sum(axis=1)\n",
    "portfolio_cum = (1 + portfolio_returns).cumprod()\n",
    "\n",
    "# Benchmark 60/40 SPY/BND\n",
    "benchmark_weights = {\"SPY\": 0.6, \"BND\": 0.4}\n",
    "benchmark_returns = (backtest * pd.Series(benchmark_weights)).sum(axis=1)\n",
    "benchmark_cum = (1 + benchmark_returns).cumprod()\n",
    "\n",
    "plt.figure(figsize=(12,6))\n",
    "plt.plot(portfolio_cum, label=\"Strategy Portfolio\")\n",
    "plt.plot(benchmark_cum, label=\"60/40 Benchmark\")\n",
    "plt.legend()\n",
    "plt.title(\"Backtest: Portfolio vs Benchmark\")\n",
    "plt.savefig(os.path.join(plots_folder, \"task5_backtest.png\"))\n",
    "plt.show()\n",
    "\n",
    "print(f\"Final Strategy Return: {(portfolio_cum.iloc[-1] - 1)*100:.2f}%\")\n",
    "print(f\"Final Benchmark Return: {(benchmark_cum.iloc[-1] - 1)*100:.2f}%\")\n"
   ]
  }
 ],
 "metadata": {
  "kernelspec": {
   "display_name": "Python [conda env:base] *",
   "language": "python",
   "name": "conda-base-py"
  },
  "language_info": {
   "codemirror_mode": {
    "name": "ipython",
    "version": 3
   },
   "file_extension": ".py",
   "mimetype": "text/x-python",
   "name": "python",
   "nbconvert_exporter": "python",
   "pygments_lexer": "ipython3",
   "version": "3.12.7"
  }
 },
 "nbformat": 4,
 "nbformat_minor": 5
}
