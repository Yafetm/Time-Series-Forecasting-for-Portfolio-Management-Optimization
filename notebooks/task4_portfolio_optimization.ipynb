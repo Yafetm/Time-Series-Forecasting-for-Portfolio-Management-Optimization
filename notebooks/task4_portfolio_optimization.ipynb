{
 "cells": [
  {
   "cell_type": "code",
   "execution_count": null,
   "id": "73b7b5ac-ec1c-4b99-b7b3-6a5e86e43b9b",
   "metadata": {},
   "outputs": [],
   "source": [
    "import pandas as pd\n",
    "import numpy as np\n",
    "import matplotlib.pyplot as plt\n",
    "import os\n",
    "from pypfopt.expected_returns import mean_historical_return\n",
    "from pypfopt.risk_models import CovarianceShrinkage\n",
    "from pypfopt.efficient_frontier import EfficientFrontier\n",
    "\n",
    "data_folder = os.path.join(\"..\", \"data\")\n",
    "plots_folder = os.path.join(\"..\", \"plots\")\n",
    "\n",
    "# Load assets\n",
    "assets = {}\n",
    "for ticker in [\"TSLA\", \"BND\", \"SPY\"]:\n",
    "    df = pd.read_csv(os.path.join(data_folder, f\"{ticker}.csv\"), parse_dates=[0], index_col=0)\n",
    "    df[\"Daily_Return\"] = df[\"Close\"].pct_change()\n",
    "    assets[ticker] = df\n",
    "\n",
    "# Combine returns\n",
    "returns_df = pd.concat([assets[t][\"Daily_Return\"] for t in assets], axis=1)\n",
    "returns_df.columns = assets.keys()\n",
    "returns_df.dropna(inplace=True)\n",
    "\n",
    "# Expected returns & covariance\n",
    "mu = mean_historical_return(pd.concat([assets[t][\"Close\"] for t in assets], axis=1))\n",
    "S = CovarianceShrinkage(pd.concat([assets[t][\"Close\"] for t in assets], axis=1)).ledoit_wolf()\n",
    "\n",
    "# Optimize portfolio\n",
    "ef = EfficientFrontier(mu, S)\n",
    "weights = ef.max_sharpe()\n",
    "cleaned_weights = ef.clean_weights()\n",
    "performance = ef.portfolio_performance(verbose=True)\n",
    "\n",
    "# Plot Efficient Frontier\n",
    "from pypfopt import plotting\n",
    "ef = EfficientFrontier(mu, S)\n",
    "fig, ax = plt.subplots(figsize=(8,6))\n",
    "plotting.plot_efficient_frontier(ef, ax=ax, show_assets=True)\n",
    "plt.savefig(os.path.join(plots_folder, \"task4_efficient_frontier.png\"))\n",
    "plt.show()\n",
    "\n",
    "print(\"Optimal Weights:\", cleaned_weights)\n"
   ]
  }
 ],
 "metadata": {
  "kernelspec": {
   "display_name": "Python [conda env:base] *",
   "language": "python",
   "name": "conda-base-py"
  },
  "language_info": {
   "codemirror_mode": {
    "name": "ipython",
    "version": 3
   },
   "file_extension": ".py",
   "mimetype": "text/x-python",
   "name": "python",
   "nbconvert_exporter": "python",
   "pygments_lexer": "ipython3",
   "version": "3.12.7"
  }
 },
 "nbformat": 4,
 "nbformat_minor": 5
}
