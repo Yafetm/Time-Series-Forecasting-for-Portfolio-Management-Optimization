{
 "cells": [
  {
   "cell_type": "code",
   "execution_count": null,
   "id": "0923d7a5-1f09-46f6-80e8-f70b844ec7b9",
   "metadata": {},
   "outputs": [],
   "source": [
    "import pandas as pd\n",
    "import matplotlib.pyplot as plt\n",
    "import os\n",
    "import pmdarima as pm\n",
    "from statsmodels.tsa.arima.model import ARIMA\n",
    "\n",
    "# Load TSLA\n",
    "data_folder = os.path.join(\"..\", \"data\")\n",
    "plots_folder = os.path.join(\"..\", \"plots\")\n",
    "df = pd.read_csv(os.path.join(data_folder, \"TSLA.csv\"), parse_dates=[0], index_col=0)\n",
    "\n",
    "# Train ARIMA (assuming best from Task 2)\n",
    "train_df = df[\"Close\"]\n",
    "\n",
    "model = pm.auto_arima(train_df, seasonal=False, stepwise=True, suppress_warnings=True)\n",
    "fit = ARIMA(train_df, order=model.order).fit()\n",
    "\n",
    "forecast_steps = 252  # ~ 12 months\n",
    "forecast = fit.get_forecast(steps=forecast_steps)\n",
    "forecast_df = forecast.summary_frame()\n",
    "\n",
    "plt.figure(figsize=(12,6))\n",
    "plt.plot(train_df, label=\"Historical\")\n",
    "plt.plot(forecast_df.index, forecast_df[\"mean\"], label=\"Forecast\")\n",
    "plt.fill_between(forecast_df.index, forecast_df[\"mean_ci_lower\"], forecast_df[\"mean_ci_upper\"], color=\"pink\", alpha=0.3)\n",
    "plt.legend()\n",
    "plt.title(\"12-Month Forecast (TSLA)\")\n",
    "plt.savefig(os.path.join(plots_folder, \"task3_tsla_forecast.png\"))\n",
    "plt.show()\n",
    "\n",
    "print(\"[Forecast Insight] Confidence intervals widen over time, indicating increasing uncertainty.\")\n"
   ]
  }
 ],
 "metadata": {
  "kernelspec": {
   "display_name": "Python [conda env:base] *",
   "language": "python",
   "name": "conda-base-py"
  },
  "language_info": {
   "codemirror_mode": {
    "name": "ipython",
    "version": 3
   },
   "file_extension": ".py",
   "mimetype": "text/x-python",
   "name": "python",
   "nbconvert_exporter": "python",
   "pygments_lexer": "ipython3",
   "version": "3.12.7"
  }
 },
 "nbformat": 4,
 "nbformat_minor": 5
}
